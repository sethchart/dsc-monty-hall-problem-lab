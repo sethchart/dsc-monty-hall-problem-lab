{
 "cells": [
  {
   "cell_type": "markdown",
   "metadata": {},
   "source": [
    "# The Monty Hall Problem\n",
    "\n",
    "## Introduction\n",
    "\n",
    "The Monty Hall problem is a famous little puzzle from a game show. It goes like this: you are presented with 3 doors. Behind two are goats and behind the third is a car. You are asked to select a door; if you select the door with the car, you win! After selecting, the host then opens one of the remaining two doors, revealing a goat. The host then asks if you would like to switch doors or stick with your original choice. What would you do? Does it matter?\n",
    "\n",
    "<img src=\"images/Image_58_MontyHall.png\">\n",
    "\n",
    "## Objectives\n",
    "\n",
    "In this lab you will:\n",
    "\n",
    "- Use Bayes' theorem along with a simulation to solve the Monty Hall problem"
   ]
  },
  {
   "cell_type": "markdown",
   "metadata": {},
   "source": [
    "## Run a simulation\n",
    "\n",
    "This is not a traditional application of Bayes' theorem, so trying to formulate the problem as such is tricky at best. That said, the scenario does capture the motivating conception behind Bayesian statistics: updating our beliefs in the face of additional evidence. With this, you'll employ another frequently used tool Bayesians frequently employ, running simulations. To do this, generate a random integer between one and three to represent the door hiding the car. Then, generate a second integer between one and three representing the player's selection. Then, of those the contestant did not choose, select a door concealing a goat to reveal. Record the results of the simulated game if they changed versus if they did not. Repeat this process a thousand (or more) times. Finally, plot the results of your simulation as a line graph. The x-axis should be the number of simulations, and the y-axis should be the probability of winning. (There should be two lines on the graph, one for switching doors, and the other for keeping the original selection.)"
   ]
  },
  {
   "cell_type": "code",
   "execution_count": 6,
   "metadata": {},
   "outputs": [
    {
     "data": {
      "image/png": "[encoded data removed]",
      "text/plain": [
       "<Figure size 576x432 with 1 Axes>"
      ]
     },
     "metadata": {
      "needs_background": "light"
     },
     "output_type": "display_data"
    }
   ],
   "source": [
    "# Deliverable\n",
    "# Be sure to run all code block below before running this block.\n",
    "\n",
    "plot_win_proportion(1000);"
   ]
  },
  {
   "cell_type": "code",
   "execution_count": 1,
   "metadata": {},
   "outputs": [],
   "source": [
    "import numpy as np\n",
    "import pandas as pd"
   ]
  },
  {
   "cell_type": "code",
   "execution_count": 2,
   "metadata": {},
   "outputs": [],
   "source": [
    "# Game play code\n",
    "\n",
    "def get_random_door(doors):\n",
    "    \"\"\"Given a list of doors, select one uniformly at random.\"\"\"\n",
    "    return np.random.choice(doors)\n",
    "\n",
    "def is_winner(choice, car):\n",
    "    \"\"\"Given the player's choice and the location of the car, determine if the player has won. Returns boolian.\"\"\"\n",
    "    return choice == car\n",
    "\n",
    "def drop_choice(choice, doors):\n",
    "    \"\"\"Given a list of doors and the playes choice, return a list of unopened doors.\"\"\"\n",
    "    closed_doors = [x for x in doors if x != choice]\n",
    "    return closed_doors\n",
    "\n",
    "def update_choice(choice, car, doors):\n",
    "    \"\"\"Given a list of doors, the position of the car, and the players choice, select a new door\"\"\"\n",
    "    if not is_winner(choice, car):\n",
    "        closed_doors = drop_choice(choice, doors)\n",
    "        choice = get_random_door(closed_doors)\n",
    "    return choice\n",
    "        \n",
    "\n",
    "def play_game(doors, use_information=False):\n",
    "    \"\"\"Given a list of doors and stratigy, play one instance of the Monty Hall game.\"\"\"\n",
    "    car = get_random_door(doors)\n",
    "    choice = get_random_door(doors)\n",
    "    if use_information:\n",
    "        choice = update_choice(choice, car, doors)\n",
    "    return is_winner(choice, car)\n"
   ]
  },
  {
   "cell_type": "code",
   "execution_count": 3,
   "metadata": {},
   "outputs": [],
   "source": [
    "# Simulation code\n",
    "def simulate_games(number_of_trials):\n",
    "    doors = [1, 2, 3]\n",
    "    games_list = []\n",
    "    wins1 = 0\n",
    "    proportion1 = 0\n",
    "    wins2 = 0\n",
    "    proportion2 = 0\n",
    "    for k in range(number_of_trials):\n",
    "        trial = k+1\n",
    "        wins1 += play_game(doors=doors, use_information=False)\n",
    "        proportion1 = wins1/trial\n",
    "        wins2 += play_game(doors=doors, use_information=True)\n",
    "        proportion2 = wins2/trial\n",
    "        game = {\n",
    "            'trial': trial,\n",
    "            'proportion1': proportion1,\n",
    "            'proportion2': proportion2\n",
    "        }\n",
    "        games_list.append(game)\n",
    "    df = pd.DataFrame(games_list)\n",
    "    return df"
   ]
  },
  {
   "cell_type": "code",
   "execution_count": 4,
   "metadata": {},
   "outputs": [],
   "source": [
    "# Plot code\n",
    "def plot_win_proportion(number_of_trials):\n",
    "    import matplotlib.pyplot as plt \n",
    "    df = simulate_games(number_of_trials)\n",
    "    plt.figure(figsize=(8, 6))\n",
    "    plt.plot('trial', 'proportion1', data=df)\n",
    "    plt.plot('trial', 'proportion2', data=df)\n",
    "    plt.legend(labels=['Keep door', 'Switch door'])\n",
    "    plt.xlabel('Trials')\n",
    "    plt.ylabel('Proportion of Wins')\n",
    "    plt.title('Proportion of Wins for the Monty Hall Game')"
   ]
  },
  {
   "cell_type": "code",
   "execution_count": null,
   "metadata": {},
   "outputs": [],
   "source": [
    "# Test plot_win_proportions \n",
    "\n",
    "plot_win_proportion(20)"
   ]
  },
  {
   "cell_type": "code",
   "execution_count": null,
   "metadata": {},
   "outputs": [],
   "source": [
    "# Test simulate_games\n",
    "def run_test():\n",
    "    np.random.seed(42)\n",
    "    ref_list =[\n",
    "        {'trial': 1, 'proportion1': 0.0, 'proportion2': 1.0},\n",
    "        {'trial': 2, 'proportion1': 0.5, 'proportion2': 0.5},\n",
    "        {'trial': 3, 'proportion1': 0.6666666666666666,'proportion2': 0.6666666666666666},\n",
    "        {'trial': 4, 'proportion1': 0.5, 'proportion2': 0.5},\n",
    "        {'trial': 5, 'proportion1': 0.6, 'proportion2': 0.6},\n",
    "        {'trial': 6, 'proportion1': 0.6666666666666666, 'proportion2': 0.6666666666666666},\n",
    "        {'trial': 7, 'proportion1': 0.5714285714285714, 'proportion2': 0.7142857142857143},\n",
    "        {'trial': 8, 'proportion1': 0.5, 'proportion2': 0.75},\n",
    "        {'trial': 9,'proportion1': 0.4444444444444444,'proportion2': 0.7777777777777778},\n",
    "        {'trial': 10, 'proportion1': 0.4, 'proportion2': 0.8}\n",
    "    ]\n",
    "    ref_df = pd.DataFrame(ref_list)\n",
    "    df = simulate_games(10)\n",
    "    return df == ref_df\n",
    "run_test()"
   ]
  },
  {
   "cell_type": "code",
   "execution_count": null,
   "metadata": {},
   "outputs": [],
   "source": [
    "# Set up testing environment\n",
    "import matplotlib.pyplot as plt\n",
    "doors = [1, 2, 3]\n",
    "number_of_samples = 1000\n",
    "car = 1\n",
    "choice1 = 1\n",
    "choice2 = 2"
   ]
  },
  {
   "cell_type": "code",
   "execution_count": null,
   "metadata": {},
   "outputs": [],
   "source": [
    "# Test random_door\n",
    "\n",
    "def sample_doors():\n",
    "    doors_list = []\n",
    "    for n in range(number_of_samples):\n",
    "        doors_list.append(get_random_door(doors))\n",
    "    return doors_list\n",
    "\n",
    "def make_frequency_dict_from_list(lst):\n",
    "    freq = dict()\n",
    "    for x in lst:\n",
    "        freq[x] = freq.get(x, 0) + 1\n",
    "    return freq\n",
    "\n",
    "def make_bar_plot(door_list):\n",
    "    freq = make_frequency_dict_from_list(door_list)\n",
    "    x = freq.keys()\n",
    "    height = freq.values()\n",
    "    plt.bar(x, height=height)\n",
    "    plt.title(f'Barplot of {len(door_list)} randomly selected doors')\n",
    "\n",
    "def run_test():\n",
    "    door_list = sample_doors()\n",
    "    make_bar_plot(door_list)\n",
    "    \n",
    "run_test()"
   ]
  },
  {
   "cell_type": "code",
   "execution_count": null,
   "metadata": {},
   "outputs": [],
   "source": [
    "#Test winner\n",
    "\n",
    "def run_test():\n",
    "    return (is_winner(choice1, car) == True) & (is_winner(choice2, car) == False)\n",
    "run_test()"
   ]
  },
  {
   "cell_type": "code",
   "execution_count": null,
   "metadata": {},
   "outputs": [],
   "source": [
    "# Test drop_choice\n",
    "\n",
    "def run_test():\n",
    "    return (drop_choice(doors=doors, choice=1) == [2, 3])\n",
    "\n",
    "run_test()"
   ]
  },
  {
   "cell_type": "code",
   "execution_count": null,
   "metadata": {},
   "outputs": [],
   "source": [
    "# Test update_choice\n",
    "def run_test():\n",
    "    return (update_choice(choice1, car, doors) == choice1) & (update_choice(choice2, car, doors) != choice2)\n",
    "\n",
    "run_test()"
   ]
  },
  {
   "cell_type": "code",
   "execution_count": null,
   "metadata": {},
   "outputs": [],
   "source": [
    "# Test play game\n",
    "def run_test():\n",
    "    np.random.seed(42)\n",
    "    ref_list =[(False, True),\n",
    "               (True, False),\n",
    "               (True, True),\n",
    "               (False, False),\n",
    "               (True, True),\n",
    "               (True, True),\n",
    "               (False, True),\n",
    "               (False, True),\n",
    "               (False, True),\n",
    "               (False, True)\n",
    "              ]\n",
    "    outcome_list = []\n",
    "    for n in range(10):\n",
    "        test1 = play_game(doors, use_information=False)\n",
    "        test2 = play_game(doors, use_information=True)\n",
    "        outcome_list.append((test1, test2))   \n",
    "    return outcome_list == ref_list\n",
    "\n",
    "run_test()"
   ]
  },
  {
   "cell_type": "markdown",
   "metadata": {},
   "source": [
    "## Summary\n",
    "\n",
    "In this lab, you further investigated the idea of Bayes' theorem and Bayesian statistics in general through the Monty Hall problem. Hopefully, this was an entertaining little experience! "
   ]
  }
 ],
 "metadata": {
  "kernelspec": {
   "display_name": "Python 3",
   "language": "python",
   "name": "python3"
  },
  "language_info": {
   "codemirror_mode": {
    "name": "ipython",
    "version": 3
   },
   "file_extension": ".py",
   "mimetype": "text/x-python",
   "name": "python",
   "nbconvert_exporter": "python",
   "pygments_lexer": "ipython3",
   "version": "3.6.9"
  },
  "toc": {
   "base_numbering": 1,
   "nav_menu": {},
   "number_sections": true,
   "sideBar": true,
   "skip_h1_title": false,
   "title_cell": "Table of Contents",
   "title_sidebar": "Contents",
   "toc_cell": false,
   "toc_position": {},
   "toc_section_display": true,
   "toc_window_display": false
  }
 },
 "nbformat": 4,
 "nbformat_minor": 2
}
